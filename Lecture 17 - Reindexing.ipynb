{
 "cells": [
  {
   "cell_type": "code",
   "execution_count": 3,
   "metadata": {
    "collapsed": false
   },
   "outputs": [],
   "source": [
    "import numpy as np\n",
    "from pandas import Series, DataFrame\n",
    "import pandas as pd\n",
    "\n",
    "from numpy.random import randn"
   ]
  },
  {
   "cell_type": "code",
   "execution_count": 4,
   "metadata": {
    "collapsed": false
   },
   "outputs": [
    {
     "data": {
      "text/plain": [
       "A    1\n",
       "B    2\n",
       "C    3\n",
       "D    4\n",
       "dtype: int64"
      ]
     },
     "execution_count": 4,
     "metadata": {},
     "output_type": "execute_result"
    }
   ],
   "source": [
    "ser1 = Series([1,2,3,4],index = ['A','B','C','D'])\n",
    "ser1"
   ]
  },
  {
   "cell_type": "code",
   "execution_count": 5,
   "metadata": {
    "collapsed": false
   },
   "outputs": [
    {
     "data": {
      "text/plain": [
       "A     1\n",
       "B     2\n",
       "C     3\n",
       "D     4\n",
       "E   NaN\n",
       "F   NaN\n",
       "dtype: float64"
      ]
     },
     "execution_count": 5,
     "metadata": {},
     "output_type": "execute_result"
    }
   ],
   "source": [
    "ser2 = ser1.reindex(['A','B','C','D','E','F'])\n",
    "ser2 "
   ]
  },
  {
   "cell_type": "code",
   "execution_count": 6,
   "metadata": {
    "collapsed": false
   },
   "outputs": [
    {
     "data": {
      "text/plain": [
       "A     1\n",
       "B     2\n",
       "C     3\n",
       "D     4\n",
       "E   NaN\n",
       "F   NaN\n",
       "G     0\n",
       "dtype: float64"
      ]
     },
     "execution_count": 6,
     "metadata": {},
     "output_type": "execute_result"
    }
   ],
   "source": [
    "ser2.reindex(['A','B','C','D','E','F','G'],fill_value=0)"
   ]
  },
  {
   "cell_type": "code",
   "execution_count": 7,
   "metadata": {
    "collapsed": false
   },
   "outputs": [
    {
     "data": {
      "text/plain": [
       "0        USA\n",
       "5     Mexico\n",
       "10    Canada\n",
       "dtype: object"
      ]
     },
     "execution_count": 7,
     "metadata": {},
     "output_type": "execute_result"
    }
   ],
   "source": [
    "ser3 = Series(['USA','Mexico','Canada'],index=[0,5,10])\n",
    "ser3"
   ]
  },
  {
   "cell_type": "code",
   "execution_count": 8,
   "metadata": {
    "collapsed": false
   },
   "outputs": [
    {
     "data": {
      "text/plain": [
       "[0, 1, 2, 3, 4, 5, 6, 7, 8, 9, 10, 11, 12, 13, 14]"
      ]
     },
     "execution_count": 8,
     "metadata": {},
     "output_type": "execute_result"
    }
   ],
   "source": [
    "ranger = range(15)\n",
    "ranger\n"
   ]
  },
  {
   "cell_type": "code",
   "execution_count": 11,
   "metadata": {
    "collapsed": false
   },
   "outputs": [
    {
     "data": {
      "text/plain": [
       "0        USA\n",
       "1        USA\n",
       "2        USA\n",
       "3        USA\n",
       "4        USA\n",
       "5     Mexico\n",
       "6     Mexico\n",
       "7     Mexico\n",
       "8     Mexico\n",
       "9     Mexico\n",
       "10    Canada\n",
       "11    Canada\n",
       "12    Canada\n",
       "13    Canada\n",
       "14    Canada\n",
       "dtype: object"
      ]
     },
     "execution_count": 11,
     "metadata": {},
     "output_type": "execute_result"
    }
   ],
   "source": [
    "ser3.reindex(ranger,method='ffill')\n",
    "#ffill is forward fill. takes values and fills them forward until it hits a key that already has a value"
   ]
  },
  {
   "cell_type": "code",
   "execution_count": 12,
   "metadata": {
    "collapsed": false
   },
   "outputs": [
    {
     "data": {
      "text/html": [
       "<div style=\"max-height:1000px;max-width:1500px;overflow:auto;\">\n",
       "<table border=\"1\" class=\"dataframe\">\n",
       "  <thead>\n",
       "    <tr style=\"text-align: right;\">\n",
       "      <th></th>\n",
       "      <th>col1</th>\n",
       "      <th>col2</th>\n",
       "      <th>col3</th>\n",
       "      <th>col4</th>\n",
       "      <th>col5</th>\n",
       "    </tr>\n",
       "  </thead>\n",
       "  <tbody>\n",
       "    <tr>\n",
       "      <th>A</th>\n",
       "      <td> 1.741887</td>\n",
       "      <td> 0.497219</td>\n",
       "      <td>-0.853438</td>\n",
       "      <td>-0.702500</td>\n",
       "      <td> 0.284856</td>\n",
       "    </tr>\n",
       "    <tr>\n",
       "      <th>B</th>\n",
       "      <td>-1.821443</td>\n",
       "      <td> 1.471085</td>\n",
       "      <td>-0.930878</td>\n",
       "      <td>-1.698123</td>\n",
       "      <td>-0.022130</td>\n",
       "    </tr>\n",
       "    <tr>\n",
       "      <th>D</th>\n",
       "      <td> 1.413458</td>\n",
       "      <td> 0.607788</td>\n",
       "      <td> 1.964955</td>\n",
       "      <td>-1.023435</td>\n",
       "      <td>-0.453642</td>\n",
       "    </tr>\n",
       "    <tr>\n",
       "      <th>E</th>\n",
       "      <td>-0.320758</td>\n",
       "      <td>-0.721270</td>\n",
       "      <td> 0.771008</td>\n",
       "      <td> 0.050287</td>\n",
       "      <td>-0.863321</td>\n",
       "    </tr>\n",
       "    <tr>\n",
       "      <th>F</th>\n",
       "      <td> 0.324322</td>\n",
       "      <td>-0.274681</td>\n",
       "      <td> 0.819158</td>\n",
       "      <td> 1.661948</td>\n",
       "      <td> 0.290702</td>\n",
       "    </tr>\n",
       "  </tbody>\n",
       "</table>\n",
       "</div>"
      ],
      "text/plain": [
       "       col1      col2      col3      col4      col5\n",
       "A  1.741887  0.497219 -0.853438 -0.702500  0.284856\n",
       "B -1.821443  1.471085 -0.930878 -1.698123 -0.022130\n",
       "D  1.413458  0.607788  1.964955 -1.023435 -0.453642\n",
       "E -0.320758 -0.721270  0.771008  0.050287 -0.863321\n",
       "F  0.324322 -0.274681  0.819158  1.661948  0.290702"
      ]
     },
     "execution_count": 12,
     "metadata": {},
     "output_type": "execute_result"
    }
   ],
   "source": [
    "dframe = DataFrame(randn(25).reshape((5,5)),index=['A','B','D','E','F'],\n",
    "                  columns=['col1','col2','col3','col4','col5'])\n",
    "dframe\n",
    "#reshape allows you to create something different out of the data frame, in this case, it's a matrix\n",
    "#randn gives you a normal distribution of random numbers"
   ]
  },
  {
   "cell_type": "code",
   "execution_count": 13,
   "metadata": {
    "collapsed": false
   },
   "outputs": [
    {
     "data": {
      "text/html": [
       "<div style=\"max-height:1000px;max-width:1500px;overflow:auto;\">\n",
       "<table border=\"1\" class=\"dataframe\">\n",
       "  <thead>\n",
       "    <tr style=\"text-align: right;\">\n",
       "      <th></th>\n",
       "      <th>col1</th>\n",
       "      <th>col2</th>\n",
       "      <th>col3</th>\n",
       "      <th>col4</th>\n",
       "      <th>col5</th>\n",
       "    </tr>\n",
       "  </thead>\n",
       "  <tbody>\n",
       "    <tr>\n",
       "      <th>A</th>\n",
       "      <td> 1.741887</td>\n",
       "      <td> 0.497219</td>\n",
       "      <td>-0.853438</td>\n",
       "      <td>-0.702500</td>\n",
       "      <td> 0.284856</td>\n",
       "    </tr>\n",
       "    <tr>\n",
       "      <th>B</th>\n",
       "      <td>-1.821443</td>\n",
       "      <td> 1.471085</td>\n",
       "      <td>-0.930878</td>\n",
       "      <td>-1.698123</td>\n",
       "      <td>-0.022130</td>\n",
       "    </tr>\n",
       "    <tr>\n",
       "      <th>C</th>\n",
       "      <td>      NaN</td>\n",
       "      <td>      NaN</td>\n",
       "      <td>      NaN</td>\n",
       "      <td>      NaN</td>\n",
       "      <td>      NaN</td>\n",
       "    </tr>\n",
       "    <tr>\n",
       "      <th>D</th>\n",
       "      <td> 1.413458</td>\n",
       "      <td> 0.607788</td>\n",
       "      <td> 1.964955</td>\n",
       "      <td>-1.023435</td>\n",
       "      <td>-0.453642</td>\n",
       "    </tr>\n",
       "    <tr>\n",
       "      <th>E</th>\n",
       "      <td>-0.320758</td>\n",
       "      <td>-0.721270</td>\n",
       "      <td> 0.771008</td>\n",
       "      <td> 0.050287</td>\n",
       "      <td>-0.863321</td>\n",
       "    </tr>\n",
       "    <tr>\n",
       "      <th>F</th>\n",
       "      <td> 0.324322</td>\n",
       "      <td>-0.274681</td>\n",
       "      <td> 0.819158</td>\n",
       "      <td> 1.661948</td>\n",
       "      <td> 0.290702</td>\n",
       "    </tr>\n",
       "  </tbody>\n",
       "</table>\n",
       "</div>"
      ],
      "text/plain": [
       "       col1      col2      col3      col4      col5\n",
       "A  1.741887  0.497219 -0.853438 -0.702500  0.284856\n",
       "B -1.821443  1.471085 -0.930878 -1.698123 -0.022130\n",
       "C       NaN       NaN       NaN       NaN       NaN\n",
       "D  1.413458  0.607788  1.964955 -1.023435 -0.453642\n",
       "E -0.320758 -0.721270  0.771008  0.050287 -0.863321\n",
       "F  0.324322 -0.274681  0.819158  1.661948  0.290702"
      ]
     },
     "execution_count": 13,
     "metadata": {},
     "output_type": "execute_result"
    }
   ],
   "source": [
    "dframe2 = dframe.reindex(['A','B','C','D','E','F'])\n",
    "dframe2"
   ]
  },
  {
   "cell_type": "code",
   "execution_count": 14,
   "metadata": {
    "collapsed": true
   },
   "outputs": [],
   "source": [
    "new_columns = ['col1','col2','col3','col4','col5','col6']"
   ]
  },
  {
   "cell_type": "code",
   "execution_count": 15,
   "metadata": {
    "collapsed": false
   },
   "outputs": [
    {
     "data": {
      "text/html": [
       "<div style=\"max-height:1000px;max-width:1500px;overflow:auto;\">\n",
       "<table border=\"1\" class=\"dataframe\">\n",
       "  <thead>\n",
       "    <tr style=\"text-align: right;\">\n",
       "      <th></th>\n",
       "      <th>col1</th>\n",
       "      <th>col2</th>\n",
       "      <th>col3</th>\n",
       "      <th>col4</th>\n",
       "      <th>col5</th>\n",
       "      <th>col6</th>\n",
       "    </tr>\n",
       "  </thead>\n",
       "  <tbody>\n",
       "    <tr>\n",
       "      <th>A</th>\n",
       "      <td> 1.741887</td>\n",
       "      <td> 0.497219</td>\n",
       "      <td>-0.853438</td>\n",
       "      <td>-0.702500</td>\n",
       "      <td> 0.284856</td>\n",
       "      <td>NaN</td>\n",
       "    </tr>\n",
       "    <tr>\n",
       "      <th>B</th>\n",
       "      <td>-1.821443</td>\n",
       "      <td> 1.471085</td>\n",
       "      <td>-0.930878</td>\n",
       "      <td>-1.698123</td>\n",
       "      <td>-0.022130</td>\n",
       "      <td>NaN</td>\n",
       "    </tr>\n",
       "    <tr>\n",
       "      <th>C</th>\n",
       "      <td>      NaN</td>\n",
       "      <td>      NaN</td>\n",
       "      <td>      NaN</td>\n",
       "      <td>      NaN</td>\n",
       "      <td>      NaN</td>\n",
       "      <td>NaN</td>\n",
       "    </tr>\n",
       "    <tr>\n",
       "      <th>D</th>\n",
       "      <td> 1.413458</td>\n",
       "      <td> 0.607788</td>\n",
       "      <td> 1.964955</td>\n",
       "      <td>-1.023435</td>\n",
       "      <td>-0.453642</td>\n",
       "      <td>NaN</td>\n",
       "    </tr>\n",
       "    <tr>\n",
       "      <th>E</th>\n",
       "      <td>-0.320758</td>\n",
       "      <td>-0.721270</td>\n",
       "      <td> 0.771008</td>\n",
       "      <td> 0.050287</td>\n",
       "      <td>-0.863321</td>\n",
       "      <td>NaN</td>\n",
       "    </tr>\n",
       "    <tr>\n",
       "      <th>F</th>\n",
       "      <td> 0.324322</td>\n",
       "      <td>-0.274681</td>\n",
       "      <td> 0.819158</td>\n",
       "      <td> 1.661948</td>\n",
       "      <td> 0.290702</td>\n",
       "      <td>NaN</td>\n",
       "    </tr>\n",
       "  </tbody>\n",
       "</table>\n",
       "</div>"
      ],
      "text/plain": [
       "       col1      col2      col3      col4      col5  col6\n",
       "A  1.741887  0.497219 -0.853438 -0.702500  0.284856   NaN\n",
       "B -1.821443  1.471085 -0.930878 -1.698123 -0.022130   NaN\n",
       "C       NaN       NaN       NaN       NaN       NaN   NaN\n",
       "D  1.413458  0.607788  1.964955 -1.023435 -0.453642   NaN\n",
       "E -0.320758 -0.721270  0.771008  0.050287 -0.863321   NaN\n",
       "F  0.324322 -0.274681  0.819158  1.661948  0.290702   NaN"
      ]
     },
     "execution_count": 15,
     "metadata": {},
     "output_type": "execute_result"
    }
   ],
   "source": [
    "dframe2.reindex(columns=new_columns)"
   ]
  },
  {
   "cell_type": "code",
   "execution_count": 16,
   "metadata": {
    "collapsed": false
   },
   "outputs": [
    {
     "data": {
      "text/html": [
       "<div style=\"max-height:1000px;max-width:1500px;overflow:auto;\">\n",
       "<table border=\"1\" class=\"dataframe\">\n",
       "  <thead>\n",
       "    <tr style=\"text-align: right;\">\n",
       "      <th></th>\n",
       "      <th>col1</th>\n",
       "      <th>col2</th>\n",
       "      <th>col3</th>\n",
       "      <th>col4</th>\n",
       "      <th>col5</th>\n",
       "    </tr>\n",
       "  </thead>\n",
       "  <tbody>\n",
       "    <tr>\n",
       "      <th>A</th>\n",
       "      <td> 1.741887</td>\n",
       "      <td> 0.497219</td>\n",
       "      <td>-0.853438</td>\n",
       "      <td>-0.702500</td>\n",
       "      <td> 0.284856</td>\n",
       "    </tr>\n",
       "    <tr>\n",
       "      <th>B</th>\n",
       "      <td>-1.821443</td>\n",
       "      <td> 1.471085</td>\n",
       "      <td>-0.930878</td>\n",
       "      <td>-1.698123</td>\n",
       "      <td>-0.022130</td>\n",
       "    </tr>\n",
       "    <tr>\n",
       "      <th>D</th>\n",
       "      <td> 1.413458</td>\n",
       "      <td> 0.607788</td>\n",
       "      <td> 1.964955</td>\n",
       "      <td>-1.023435</td>\n",
       "      <td>-0.453642</td>\n",
       "    </tr>\n",
       "    <tr>\n",
       "      <th>E</th>\n",
       "      <td>-0.320758</td>\n",
       "      <td>-0.721270</td>\n",
       "      <td> 0.771008</td>\n",
       "      <td> 0.050287</td>\n",
       "      <td>-0.863321</td>\n",
       "    </tr>\n",
       "    <tr>\n",
       "      <th>F</th>\n",
       "      <td> 0.324322</td>\n",
       "      <td>-0.274681</td>\n",
       "      <td> 0.819158</td>\n",
       "      <td> 1.661948</td>\n",
       "      <td> 0.290702</td>\n",
       "    </tr>\n",
       "  </tbody>\n",
       "</table>\n",
       "</div>"
      ],
      "text/plain": [
       "       col1      col2      col3      col4      col5\n",
       "A  1.741887  0.497219 -0.853438 -0.702500  0.284856\n",
       "B -1.821443  1.471085 -0.930878 -1.698123 -0.022130\n",
       "D  1.413458  0.607788  1.964955 -1.023435 -0.453642\n",
       "E -0.320758 -0.721270  0.771008  0.050287 -0.863321\n",
       "F  0.324322 -0.274681  0.819158  1.661948  0.290702"
      ]
     },
     "execution_count": 16,
     "metadata": {},
     "output_type": "execute_result"
    }
   ],
   "source": [
    "dframe"
   ]
  },
  {
   "cell_type": "code",
   "execution_count": 18,
   "metadata": {
    "collapsed": false
   },
   "outputs": [
    {
     "data": {
      "text/html": [
       "<div style=\"max-height:1000px;max-width:1500px;overflow:auto;\">\n",
       "<table border=\"1\" class=\"dataframe\">\n",
       "  <thead>\n",
       "    <tr style=\"text-align: right;\">\n",
       "      <th></th>\n",
       "      <th>col1</th>\n",
       "      <th>col2</th>\n",
       "      <th>col3</th>\n",
       "      <th>col4</th>\n",
       "      <th>col5</th>\n",
       "      <th>col6</th>\n",
       "    </tr>\n",
       "  </thead>\n",
       "  <tbody>\n",
       "    <tr>\n",
       "      <th>A</th>\n",
       "      <td> 1.741887</td>\n",
       "      <td> 0.497219</td>\n",
       "      <td>-0.853438</td>\n",
       "      <td>-0.702500</td>\n",
       "      <td> 0.284856</td>\n",
       "      <td>NaN</td>\n",
       "    </tr>\n",
       "    <tr>\n",
       "      <th>B</th>\n",
       "      <td>-1.821443</td>\n",
       "      <td> 1.471085</td>\n",
       "      <td>-0.930878</td>\n",
       "      <td>-1.698123</td>\n",
       "      <td>-0.022130</td>\n",
       "      <td>NaN</td>\n",
       "    </tr>\n",
       "    <tr>\n",
       "      <th>C</th>\n",
       "      <td>      NaN</td>\n",
       "      <td>      NaN</td>\n",
       "      <td>      NaN</td>\n",
       "      <td>      NaN</td>\n",
       "      <td>      NaN</td>\n",
       "      <td>NaN</td>\n",
       "    </tr>\n",
       "    <tr>\n",
       "      <th>D</th>\n",
       "      <td> 1.413458</td>\n",
       "      <td> 0.607788</td>\n",
       "      <td> 1.964955</td>\n",
       "      <td>-1.023435</td>\n",
       "      <td>-0.453642</td>\n",
       "      <td>NaN</td>\n",
       "    </tr>\n",
       "    <tr>\n",
       "      <th>E</th>\n",
       "      <td>-0.320758</td>\n",
       "      <td>-0.721270</td>\n",
       "      <td> 0.771008</td>\n",
       "      <td> 0.050287</td>\n",
       "      <td>-0.863321</td>\n",
       "      <td>NaN</td>\n",
       "    </tr>\n",
       "    <tr>\n",
       "      <th>F</th>\n",
       "      <td> 0.324322</td>\n",
       "      <td>-0.274681</td>\n",
       "      <td> 0.819158</td>\n",
       "      <td> 1.661948</td>\n",
       "      <td> 0.290702</td>\n",
       "      <td>NaN</td>\n",
       "    </tr>\n",
       "  </tbody>\n",
       "</table>\n",
       "</div>"
      ],
      "text/plain": [
       "       col1      col2      col3      col4      col5  col6\n",
       "A  1.741887  0.497219 -0.853438 -0.702500  0.284856   NaN\n",
       "B -1.821443  1.471085 -0.930878 -1.698123 -0.022130   NaN\n",
       "C       NaN       NaN       NaN       NaN       NaN   NaN\n",
       "D  1.413458  0.607788  1.964955 -1.023435 -0.453642   NaN\n",
       "E -0.320758 -0.721270  0.771008  0.050287 -0.863321   NaN\n",
       "F  0.324322 -0.274681  0.819158  1.661948  0.290702   NaN"
      ]
     },
     "execution_count": 18,
     "metadata": {},
     "output_type": "execute_result"
    }
   ],
   "source": [
    "dframe.ix[['A','B','C','D','E','F'],new_columns]"
   ]
  },
  {
   "cell_type": "code",
   "execution_count": null,
   "metadata": {
    "collapsed": true
   },
   "outputs": [],
   "source": []
  },
  {
   "cell_type": "code",
   "execution_count": null,
   "metadata": {
    "collapsed": true
   },
   "outputs": [],
   "source": []
  },
  {
   "cell_type": "code",
   "execution_count": null,
   "metadata": {
    "collapsed": true
   },
   "outputs": [],
   "source": []
  },
  {
   "cell_type": "code",
   "execution_count": null,
   "metadata": {
    "collapsed": true
   },
   "outputs": [],
   "source": []
  },
  {
   "cell_type": "code",
   "execution_count": null,
   "metadata": {
    "collapsed": true
   },
   "outputs": [],
   "source": []
  }
 ],
 "metadata": {
  "kernelspec": {
   "display_name": "Python 2",
   "language": "python",
   "name": "python2"
  },
  "language_info": {
   "codemirror_mode": {
    "name": "ipython",
    "version": 2
   },
   "file_extension": ".py",
   "mimetype": "text/x-python",
   "name": "python",
   "nbconvert_exporter": "python",
   "pygments_lexer": "ipython2",
   "version": "2.7.9"
  }
 },
 "nbformat": 4,
 "nbformat_minor": 0
}
